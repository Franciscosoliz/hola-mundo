{
  "nbformat": 4,
  "nbformat_minor": 0,
  "metadata": {
    "colab": {
      "provenance": [],
      "authorship_tag": "ABX9TyPTm1IOMf+97MAN+5aQfVB6",
      "include_colab_link": true
    },
    "kernelspec": {
      "name": "python3",
      "display_name": "Python 3"
    },
    "language_info": {
      "name": "python"
    }
  },
  "cells": [
    {
      "cell_type": "markdown",
      "metadata": {
        "id": "view-in-github",
        "colab_type": "text"
      },
      "source": [
        "<a href=\"https://colab.research.google.com/github/Franciscosoliz/hola-mundo/blob/main/B_T2_FRANCISCO_SOLIZ.ipynb\" target=\"_parent\"><img src=\"https://colab.research.google.com/assets/colab-badge.svg\" alt=\"Open In Colab\"/></a>"
      ]
    },
    {
      "cell_type": "code",
      "execution_count": null,
      "metadata": {
        "id": "RCroh8p6rSxt"
      },
      "outputs": [],
      "source": []
    },
    {
      "cell_type": "markdown",
      "source": [
        "1. Hola Mundo: Escribe un programa que imprima \"Hola, Mundo!\" en la pantalla.\n"
      ],
      "metadata": {
        "id": "XOg1LyXprUSA"
      }
    },
    {
      "cell_type": "code",
      "source": [
        "print (\"Hola mundo\")"
      ],
      "metadata": {
        "colab": {
          "base_uri": "https://localhost:8080/"
        },
        "id": "7cs_sK7_r1tu",
        "outputId": "d729ce62-7b5c-4d42-dd39-5fe21b4c8940"
      },
      "execution_count": 1,
      "outputs": [
        {
          "output_type": "stream",
          "name": "stdout",
          "text": [
            "Hola mundo\n"
          ]
        }
      ]
    },
    {
      "cell_type": "markdown",
      "source": [
        "2. Suma de dos números: Escribe un programa que pida al usuario dos números y los sume."
      ],
      "metadata": {
        "id": "MSUmeHgIr-xN"
      }
    },
    {
      "cell_type": "code",
      "source": [
        "num1 = int(input(\"ingrese un numero\"))\n",
        "num2= int(input(\"ingrese un numero\"))\n",
        "\n",
        "var = (num1 + num2)\n",
        "print(var)\n"
      ],
      "metadata": {
        "colab": {
          "base_uri": "https://localhost:8080/"
        },
        "id": "NkgLBscgsCGN",
        "outputId": "47fb0f37-be9e-402a-a032-47c8f4df7789"
      },
      "execution_count": 2,
      "outputs": [
        {
          "output_type": "stream",
          "name": "stdout",
          "text": [
            "ingrese un numero4\n",
            "ingrese un numero2\n",
            "6\n"
          ]
        }
      ]
    },
    {
      "cell_type": "markdown",
      "source": [
        "3. Par o Impar: Escribe un programa que determine si un número introducido por el usuario es par o impar."
      ],
      "metadata": {
        "id": "rN4VuqtIsGAV"
      }
    },
    {
      "cell_type": "code",
      "source": [
        "numero = int(input(\"Ingrese un número entero: \"))\n",
        "\n",
        "if numero % 2 == 0:\n",
        "    print(numero, \"es un número par.\")\n",
        "else:\n",
        "    print(numero, \"es un número impar.\")\n"
      ],
      "metadata": {
        "id": "LUFCJJ2FlzQq",
        "outputId": "f5e3eea0-7cad-40ef-8aef-504588330e14",
        "colab": {
          "base_uri": "https://localhost:8080/"
        }
      },
      "execution_count": null,
      "outputs": [
        {
          "output_type": "stream",
          "name": "stdout",
          "text": [
            "Ingrese un número entero: 4\n",
            "4 es un número par.\n"
          ]
        }
      ]
    },
    {
      "cell_type": "markdown",
      "source": [
        "4. Calculadora básica: Escribe un programa que realice operaciones básicas (suma, resta, multiplicación y división) entre dos números introducidos por el usuario."
      ],
      "metadata": {
        "id": "pa3EuuYVsWvu"
      }
    },
    {
      "cell_type": "code",
      "source": [],
      "metadata": {
        "id": "TXQ0mM74sXeW"
      },
      "execution_count": null,
      "outputs": []
    },
    {
      "cell_type": "code",
      "source": [
        "def suma(a, b):\n",
        "    return a + b\n",
        "\n",
        "def resta(a, b):\n",
        "    return a - b\n",
        "\n",
        "def multiplicacion(a, b):\n",
        "    return a * b\n",
        "\n",
        "def division(a, b):\n",
        "    if b != 0:\n",
        "        return a / b\n",
        "    else:\n",
        "        return \"No se puede dividir por cero\"\n",
        "\n",
        "num1 = float(input(\"Ingrese el primer número: \"))\n",
        "num2 = float(input(\"Ingrese el segundo número: \"))\n",
        "\n",
        "print(\"\\nSeleccione la operación que desea realizar:\")\n",
        "print(\"1. Suma\")\n",
        "print(\"2. Resta\")\n",
        "print(\"3. Multiplicación\")\n",
        "print(\"4. División\")\n",
        "\n",
        "opcion = input(\"Ingrese el número correspondiente a la operación: \")\n",
        "\n",
        "if opcion == '1':\n",
        "    print(\"La suma es:\", suma(num1, num2))\n",
        "elif opcion == '2':\n",
        "    print(\"La resta es:\", resta(num1, num2))\n",
        "elif opcion == '3':\n",
        "    print(\"La multiplicación es:\", multiplicacion(num1, num2))\n",
        "elif opcion == '4':\n",
        "    print(\"La división es:\", division(num1, num2))\n",
        "else:\n",
        "    print(\"Opción no válida\")\n"
      ],
      "metadata": {
        "id": "vnxtpn7jmvAZ",
        "outputId": "18d0f0e5-548c-49cd-c8e4-3a29f4c4f09b",
        "colab": {
          "base_uri": "https://localhost:8080/"
        }
      },
      "execution_count": null,
      "outputs": [
        {
          "output_type": "stream",
          "name": "stdout",
          "text": [
            "Ingrese el primer número: 2\n",
            "Ingrese el segundo número: 4\n",
            "\n",
            "Seleccione la operación que desea realizar:\n",
            "1. Suma\n",
            "2. Resta\n",
            "3. Multiplicación\n",
            "4. División\n",
            "Ingrese el número correspondiente a la operación: 1\n",
            "La suma es: 6.0\n"
          ]
        }
      ]
    },
    {
      "cell_type": "markdown",
      "source": [
        "5. Número mayor: Escribe un programa que pida tres números al usuario y determine\n",
        "cuál es el mayor.\n"
      ],
      "metadata": {
        "id": "-TKaefKcm6rC"
      }
    },
    {
      "cell_type": "code",
      "source": [
        "numero1 = float(input(\"Ingrese el primer número: \"))\n",
        "numero2 = float(input(\"Ingrese el segundo número: \"))\n",
        "numero3 = float(input(\"Ingrese el tercer número: \"))\n",
        "\n",
        "if numero1 >= numero2 and numero1 >= numero3:\n",
        "    mayor = numero1\n",
        "elif numero2 >= numero1 and numero2 >= numero3:\n",
        "    mayor = numero2\n",
        "else:\n",
        "    mayor = numero3\n",
        "\n",
        "print(\"El número mayor es:\", mayor)\n"
      ],
      "metadata": {
        "id": "3Uh_5XqcnFkZ",
        "outputId": "da7000c9-2252-420f-bdd9-9410c0d7e675",
        "colab": {
          "base_uri": "https://localhost:8080/"
        }
      },
      "execution_count": null,
      "outputs": [
        {
          "output_type": "stream",
          "name": "stdout",
          "text": [
            "Ingrese el primer número: 2\n",
            "Ingrese el segundo número: 3\n",
            "Ingrese el tercer número: 4\n",
            "El número mayor es: 4.0\n"
          ]
        }
      ]
    },
    {
      "cell_type": "markdown",
      "source": [
        "6. Cálculo del área de un círculo: Escribe un programa que calcule el área de un\n",
        "círculo a partir de su radio, ingresado por el usuario"
      ],
      "metadata": {
        "id": "ABQQk_w7nM2o"
      }
    },
    {
      "cell_type": "code",
      "source": [
        "import math\n",
        "\n",
        "radio = float(input(\"Ingrese el radio del círculo: \"))\n",
        "\n",
        "area = math.pi * radio ** 2\n",
        "\n",
        "print(\"El área del círculo con radio\", radio, \"es:\", area)\n"
      ],
      "metadata": {
        "id": "JxqLnGW7nPcY",
        "outputId": "548be620-c691-4543-826e-eaf43cbc0a71",
        "colab": {
          "base_uri": "https://localhost:8080/"
        }
      },
      "execution_count": null,
      "outputs": [
        {
          "output_type": "stream",
          "name": "stdout",
          "text": [
            "Ingrese el radio del círculo: 5\n",
            "El área del círculo con radio 5.0 es: 78.53981633974483\n"
          ]
        }
      ]
    },
    {
      "cell_type": "markdown",
      "source": [
        "7. Conversión de grados Celsius a Fahrenheit: Escribe un programa que convierta\n",
        "una temperatura dada en grados Celsius a grados Fahrenheit."
      ],
      "metadata": {
        "id": "CYnOLn5DoSBJ"
      }
    },
    {
      "cell_type": "code",
      "source": [
        "celsius = float(input(\"Ingrese la temperatura en grados Celsius: \"))\n",
        "\n",
        "fahrenheit = (celsius * 9/5) + 32\n",
        "\n",
        "print(\"La temperatura equivalente en grados Fahrenheit es:\", fahrenheit)\n"
      ],
      "metadata": {
        "id": "1xErGjHgohcI",
        "outputId": "d3c498d8-9a74-4fb0-dbb4-748063e9088f",
        "colab": {
          "base_uri": "https://localhost:8080/"
        }
      },
      "execution_count": null,
      "outputs": [
        {
          "output_type": "stream",
          "name": "stdout",
          "text": [
            "Ingrese la temperatura en grados Celsius: 54\n",
            "La temperatura equivalente en grados Fahrenheit es: 129.2\n"
          ]
        }
      ]
    },
    {
      "cell_type": "markdown",
      "source": [
        "8. Cuenta atrás: Escribe un programa que cuente hacia atrás desde 10 hasta 0.\n"
      ],
      "metadata": {
        "id": "GBr4zJ8eo4Dg"
      }
    },
    {
      "cell_type": "code",
      "source": [
        "for i in range(10, -1, -1):\n",
        "    print(i)\n"
      ],
      "metadata": {
        "id": "Kl7akIUJo7Gg",
        "outputId": "02621940-502c-4628-c07f-64997c6b9037",
        "colab": {
          "base_uri": "https://localhost:8080/"
        }
      },
      "execution_count": null,
      "outputs": [
        {
          "output_type": "stream",
          "name": "stdout",
          "text": [
            "10\n",
            "9\n",
            "8\n",
            "7\n",
            "6\n",
            "5\n",
            "4\n",
            "3\n",
            "2\n",
            "1\n",
            "0\n"
          ]
        }
      ]
    },
    {
      "cell_type": "markdown",
      "source": [
        "9. Tabla de multiplicar: Escribe un programa que muestre la tabla de multiplicar de un\n",
        "número introducido por el usuario.\n"
      ],
      "metadata": {
        "id": "6Nsvv8tppDhh"
      }
    },
    {
      "cell_type": "code",
      "source": [
        "numero = int(input(\"Ingrese un número para ver su tabla de multiplicar: \"))\n",
        "\n",
        "print(\"Tabla de multiplicar de\", numero, \":\")\n",
        "for i in range(1, 11):\n",
        "    producto = numero * i\n",
        "    print(numero, \"x\", i, \"=\", producto)\n"
      ],
      "metadata": {
        "id": "GporEY38pFxP",
        "outputId": "df63ad69-83df-488f-f8e7-c7e73b9f93c1",
        "colab": {
          "base_uri": "https://localhost:8080/"
        }
      },
      "execution_count": null,
      "outputs": [
        {
          "output_type": "stream",
          "name": "stdout",
          "text": [
            "Ingrese un número para ver su tabla de multiplicar: 2\n",
            "Tabla de multiplicar de 2 :\n",
            "2 x 1 = 2\n",
            "2 x 2 = 4\n",
            "2 x 3 = 6\n",
            "2 x 4 = 8\n",
            "2 x 5 = 10\n",
            "2 x 6 = 12\n",
            "2 x 7 = 14\n",
            "2 x 8 = 16\n",
            "2 x 9 = 18\n",
            "2 x 10 = 20\n"
          ]
        }
      ]
    },
    {
      "cell_type": "markdown",
      "source": [
        "10. Números primos: Escribe un programa que determine si un número introducido por\n",
        "el usuario es primo.\n"
      ],
      "metadata": {
        "id": "hhmyvChIpTZ5"
      }
    },
    {
      "cell_type": "code",
      "source": [
        "def es_primo(numero):\n",
        "    if numero <= 1:\n",
        "        return False\n",
        "    for i in range(2, int(numero**0.5) + 1):\n",
        "        if numero % i == 0:\n",
        "            return False\n",
        "    return True\n",
        "\n",
        "numero = int(input(\"Ingrese un número: \"))\n",
        "\n",
        "if es_primo(numero):\n",
        "    print(numero, \"es un número primo.\")\n",
        "else:\n",
        "    print(numero, \"no es un número primo.\")\n"
      ],
      "metadata": {
        "id": "7JBUPf_dpVzx",
        "outputId": "aaa95f03-ba35-420e-c280-0ebf78f4cde1",
        "colab": {
          "base_uri": "https://localhost:8080/"
        }
      },
      "execution_count": null,
      "outputs": [
        {
          "output_type": "stream",
          "name": "stdout",
          "text": [
            "Ingrese un número: 6\n",
            "6 no es un número primo.\n"
          ]
        }
      ]
    },
    {
      "cell_type": "markdown",
      "source": [
        "11. Sumar números hasta un límite: Escribe un programa que sume todos los números naturales hasta un número límite introducido por el usuario.\n"
      ],
      "metadata": {
        "id": "Obl-RKYUugrt"
      }
    },
    {
      "cell_type": "code",
      "source": [
        "def suma_numeros_hasta_limite():\n",
        "    limite = int(input(\"Introduce el límite superior: \"))\n",
        "    suma = 0\n",
        "    for i in range(1, limite + 1):\n",
        "        suma += i\n",
        "    print(\"La suma de todos los números naturales hasta\", limite, \"es:\", suma)\n",
        "\n",
        "suma_numeros_hasta_limite()\n"
      ],
      "metadata": {
        "colab": {
          "base_uri": "https://localhost:8080/"
        },
        "id": "5kcU7tTsuoQw",
        "outputId": "4be535b7-8679-4a7a-c2da-15cc51579441"
      },
      "execution_count": 3,
      "outputs": [
        {
          "output_type": "stream",
          "name": "stdout",
          "text": [
            "Introduce el límite superior: 1\n",
            "La suma de todos los números naturales hasta 1 es: 1\n"
          ]
        }
      ]
    },
    {
      "cell_type": "markdown",
      "source": [
        "12. Invertir una cadena: Escribe un programa que invierta una cadena introducida por el usuario."
      ],
      "metadata": {
        "id": "w3TCInnFu1Q8"
      }
    },
    {
      "cell_type": "code",
      "source": [
        "def invertir_cadena():\n",
        "    cadena = input(\"Introduce una cadena: \")\n",
        "    cadena_invertida = cadena[::-1]\n",
        "    print(\"La cadena invertida es:\", cadena_invertida)\n",
        "\n",
        "invertir_cadena()\n"
      ],
      "metadata": {
        "colab": {
          "base_uri": "https://localhost:8080/"
        },
        "id": "8rImeQEYu3or",
        "outputId": "1a1a994d-6c5d-4693-9868-231970ab3e79"
      },
      "execution_count": 4,
      "outputs": [
        {
          "output_type": "stream",
          "name": "stdout",
          "text": [
            "Introduce una cadena: 1,2,3,4,5,6\n",
            "La cadena invertida es: 6,5,4,3,2,1\n"
          ]
        }
      ]
    },
    {
      "cell_type": "markdown",
      "source": [
        "13. Contar vocales: Escribe un programa que cuente el número de vocales en una cadena introducida por el usuario."
      ],
      "metadata": {
        "id": "FshtuvKfvK-k"
      }
    },
    {
      "cell_type": "code",
      "source": [
        "def contar_vocales():\n",
        "    cadena = input(\"Introduce una cadena: \")\n",
        "    vocales = 'aeiouAEIOU'\n",
        "    contador = 0\n",
        "    for letra in cadena:\n",
        "        if letra in vocales:\n",
        "            contador += 1\n",
        "    print(\"El número de vocales en la cadena es:\", contador)\n",
        "\n",
        "contar_vocales()\n"
      ],
      "metadata": {
        "colab": {
          "base_uri": "https://localhost:8080/"
        },
        "id": "Af8l_mZavM9D",
        "outputId": "673d2fe9-9b20-4a9a-efdc-16ccbae679f7"
      },
      "execution_count": 5,
      "outputs": [
        {
          "output_type": "stream",
          "name": "stdout",
          "text": [
            "Introduce una cadena: Hola mundo\n",
            "El número de vocales en la cadena es: 4\n"
          ]
        }
      ]
    },
    {
      "cell_type": "markdown",
      "source": [
        "14. Palíndromo: Escribe un programa que determine si una cadena introducida por el usuario es un palíndromo."
      ],
      "metadata": {
        "id": "-ljcLnu2vXEk"
      }
    },
    {
      "cell_type": "code",
      "source": [
        "def es_palindromo(cadena):\n",
        "    # Eliminamos los espacios en blanco y convertimos la cadena a minúsculas\n",
        "    cadena = cadena.replace(\" \", \"\").lower()\n",
        "    # Comparamos la cadena original con su inversa\n",
        "    return cadena == cadena[::-1]\n",
        "\n",
        "def main():\n",
        "    palabra = input(\"Introduce una palabra o frase: \")\n",
        "    if es_palindromo(palabra):\n",
        "        print(\"La palabra o frase es un palíndromo.\")\n",
        "    else:\n",
        "        print(\"La palabra o frase no es un palíndromo.\")\n",
        "\n",
        "main()\n"
      ],
      "metadata": {
        "colab": {
          "base_uri": "https://localhost:8080/"
        },
        "id": "lUsVPxKevYlb",
        "outputId": "bead1050-cf4e-4b71-f1eb-b95aafea1b84"
      },
      "execution_count": 6,
      "outputs": [
        {
          "output_type": "stream",
          "name": "stdout",
          "text": [
            "Introduce una palabra o frase: Hola mundo\n",
            "La palabra o frase no es un palíndromo.\n"
          ]
        }
      ]
    },
    {
      "cell_type": "markdown",
      "source": [
        "15. Factorial de un número: Escribe un programa que calcule el factorial de un número introducido por el usuario."
      ],
      "metadata": {
        "id": "enJJbMNNvhws"
      }
    },
    {
      "cell_type": "code",
      "source": [
        "def factorial(numero):\n",
        "    if numero == 0:\n",
        "        return 1\n",
        "    else:\n",
        "        return numero * factorial(numero - 1)\n",
        "\n",
        "def main():\n",
        "    numero = int(input(\"Introduce un número entero para calcular su factorial: \"))\n",
        "    if numero < 0:\n",
        "        print(\"El factorial no está definido para números negativos.\")\n",
        "    else:\n",
        "        print(\"El factorial de\", numero, \"es:\", factorial(numero))\n",
        "\n",
        "main()\n"
      ],
      "metadata": {
        "colab": {
          "base_uri": "https://localhost:8080/"
        },
        "id": "NHS75rS_vqgs",
        "outputId": "2368c099-cefc-4aac-f9b5-1382dd381150"
      },
      "execution_count": 7,
      "outputs": [
        {
          "output_type": "stream",
          "name": "stdout",
          "text": [
            "Introduce un número entero para calcular su factorial: 52\n",
            "El factorial de 52 es: 80658175170943878571660636856403766975289505440883277824000000000000\n"
          ]
        }
      ]
    },
    {
      "cell_type": "markdown",
      "source": [
        "16. Generar números aleatorios: Escribe un programa que genere y muestre 5 números aleatorios entre 1 y 100."
      ],
      "metadata": {
        "id": "Vpy70rKyvuI7"
      }
    },
    {
      "cell_type": "code",
      "source": [
        "import random\n",
        "\n",
        "def generar_numeros_aleatorios():\n",
        "    print(\"Generando 5 números aleatorios entre 1 y 100:\")\n",
        "    for _ in range(5):\n",
        "        numero = random.randint(1, 100)\n",
        "        print(numero)\n",
        "\n",
        "generar_numeros_aleatorios()\n"
      ],
      "metadata": {
        "colab": {
          "base_uri": "https://localhost:8080/"
        },
        "id": "Fn6izemUvy9D",
        "outputId": "571e6a97-619b-401a-9176-64291c56a7ac"
      },
      "execution_count": 8,
      "outputs": [
        {
          "output_type": "stream",
          "name": "stdout",
          "text": [
            "Generando 5 números aleatorios entre 1 y 100:\n",
            "36\n",
            "69\n",
            "62\n",
            "48\n",
            "11\n"
          ]
        }
      ]
    },
    {
      "cell_type": "markdown",
      "source": [
        "17. Calculadora de índice de masa corporal (IMC): Escribe un programa que calcule el índice de masa corporal (IMC) a partir del peso y la altura introducidos por el usuario."
      ],
      "metadata": {
        "id": "gd4fkP52v79S"
      }
    },
    {
      "cell_type": "code",
      "source": [
        "def calcular_imc(peso, altura):\n",
        "    # Fórmula para calcular el IMC: peso / (altura * altura)\n",
        "    imc = peso / (altura ** 2)\n",
        "    return imc\n",
        "\n",
        "def main():\n",
        "    peso = float(input(\"Introduce tu peso en kilogramos: \"))\n",
        "    altura = float(input(\"Introduce tu altura en metros: \"))\n",
        "\n",
        "    # Calcular el IMC\n",
        "    imc = calcular_imc(peso, altura)\n",
        "\n",
        "    # Imprimir el resultado\n",
        "    print(\"Tu Índice de Masa Corporal (IMC) es:\", imc)\n",
        "\n",
        "main()\n"
      ],
      "metadata": {
        "colab": {
          "base_uri": "https://localhost:8080/"
        },
        "id": "4gM27wjsv-OU",
        "outputId": "82021a82-ece9-44d5-a7cd-378b6635b244"
      },
      "execution_count": 9,
      "outputs": [
        {
          "output_type": "stream",
          "name": "stdout",
          "text": [
            "Introduce tu peso en kilogramos: 24\n",
            "Introduce tu altura en metros: 167\n",
            "Tu Índice de Masa Corporal (IMC) es: 0.0008605543404209545\n"
          ]
        }
      ]
    }
  ]
}